{
 "cells": [
  {
   "cell_type": "code",
   "execution_count": 1,
   "metadata": {},
   "outputs": [],
   "source": [
    "import numpy as np\n",
    "import pandas as pd"
   ]
  },
  {
   "cell_type": "code",
   "execution_count": 3,
   "metadata": {},
   "outputs": [],
   "source": [
    "train = pd.read_csv('train_data.csv')\n",
    "test = pd.read_csv('test_data.csv')\n",
    "train_arr = train.to_numpy()\n",
    "test_arr = test.to_numpy()"
   ]
  },
  {
   "cell_type": "code",
   "execution_count": 36,
   "metadata": {},
   "outputs": [],
   "source": [
    "ex_data = np.load(\"./DATA/natops/train_array.npy\")\n",
    "ex_label = np.load(\"./DATA/natops/train_label.npy\")\n",
    "test_ex_data = np.load(\"./DATA/natops/test_array.npy\")\n",
    "test_ex_label = np.load(\"./DATA/natops/test_label.npy\")"
   ]
  },
  {
   "cell_type": "code",
   "execution_count": 38,
   "metadata": {},
   "outputs": [
    {
     "data": {
      "text/plain": [
       "array(['4.0', '5.0', '6.0', '1.0', '4.0', '3.0', '2.0', '3.0', '3.0',\n",
       "       '1.0', '5.0', '4.0', '3.0', '5.0', '2.0', '1.0', '5.0', '1.0',\n",
       "       '5.0', '1.0', '3.0', '4.0', '6.0', '6.0', '2.0', '3.0', '2.0',\n",
       "       '1.0', '2.0', '5.0', '3.0', '4.0', '6.0', '5.0', '4.0', '6.0',\n",
       "       '4.0', '1.0', '4.0', '6.0', '5.0', '3.0', '2.0', '6.0', '1.0',\n",
       "       '3.0', '5.0', '4.0', '3.0', '3.0', '3.0', '3.0', '1.0', '3.0',\n",
       "       '1.0', '2.0', '1.0', '1.0', '5.0', '2.0', '5.0', '6.0', '1.0',\n",
       "       '6.0', '2.0', '2.0', '2.0', '3.0', '5.0', '2.0', '6.0', '4.0',\n",
       "       '1.0', '4.0', '5.0', '4.0', '2.0', '5.0', '5.0', '3.0', '1.0',\n",
       "       '4.0', '4.0', '6.0', '2.0', '6.0', '3.0', '6.0', '6.0', '5.0',\n",
       "       '5.0', '3.0', '5.0', '4.0', '6.0', '3.0', '2.0', '6.0', '1.0',\n",
       "       '4.0', '1.0', '6.0', '4.0', '6.0', '1.0', '6.0', '6.0', '1.0',\n",
       "       '3.0', '6.0', '1.0', '2.0', '2.0', '5.0', '2.0', '1.0', '1.0',\n",
       "       '3.0', '5.0', '2.0', '1.0', '4.0', '5.0', '4.0', '2.0', '3.0',\n",
       "       '3.0', '3.0', '3.0', '1.0', '5.0', '1.0', '1.0', '2.0', '4.0',\n",
       "       '5.0', '5.0', '3.0', '2.0', '2.0', '2.0', '5.0', '5.0', '4.0',\n",
       "       '2.0', '5.0', '1.0', '5.0', '6.0', '6.0', '2.0', '6.0', '4.0',\n",
       "       '4.0', '6.0', '6.0', '5.0', '4.0', '6.0', '2.0', '4.0', '3.0',\n",
       "       '4.0', '1.0', '2.0', '4.0', '1.0', '3.0', '6.0', '3.0', '2.0',\n",
       "       '6.0', '4.0', '2.0', '1.0', '6.0', '3.0', '5.0', '4.0', '4.0'],\n",
       "      dtype='<U32')"
      ]
     },
     "execution_count": 38,
     "metadata": {},
     "output_type": "execute_result"
    }
   ],
   "source": [
    "test_ex_label"
   ]
  },
  {
   "cell_type": "code",
   "execution_count": 15,
   "metadata": {},
   "outputs": [
    {
     "data": {
      "text/plain": [
       "(2463, 8)"
      ]
     },
     "execution_count": 15,
     "metadata": {},
     "output_type": "execute_result"
    }
   ],
   "source": [
    "train_arr.shape"
   ]
  },
  {
   "cell_type": "code",
   "execution_count": 27,
   "metadata": {},
   "outputs": [
    {
     "data": {
      "text/html": [
       "<div>\n",
       "<style scoped>\n",
       "    .dataframe tbody tr th:only-of-type {\n",
       "        vertical-align: middle;\n",
       "    }\n",
       "\n",
       "    .dataframe tbody tr th {\n",
       "        vertical-align: top;\n",
       "    }\n",
       "\n",
       "    .dataframe thead th {\n",
       "        text-align: right;\n",
       "    }\n",
       "</style>\n",
       "<table border=\"1\" class=\"dataframe\">\n",
       "  <thead>\n",
       "    <tr style=\"text-align: right;\">\n",
       "      <th></th>\n",
       "      <th>air_inflow</th>\n",
       "      <th>air_end_temp</th>\n",
       "      <th>out_pressure</th>\n",
       "      <th>motor_current</th>\n",
       "      <th>motor_rpm</th>\n",
       "      <th>motor_temp</th>\n",
       "      <th>motor_vibe</th>\n",
       "      <th>type</th>\n",
       "    </tr>\n",
       "  </thead>\n",
       "  <tbody>\n",
       "    <tr>\n",
       "      <th>0</th>\n",
       "      <td>1.59</td>\n",
       "      <td>41.00</td>\n",
       "      <td>0.7</td>\n",
       "      <td>20.53</td>\n",
       "      <td>1680.0</td>\n",
       "      <td>58.67</td>\n",
       "      <td>2.93</td>\n",
       "      <td>0</td>\n",
       "    </tr>\n",
       "    <tr>\n",
       "      <th>1</th>\n",
       "      <td>2.97</td>\n",
       "      <td>59.28</td>\n",
       "      <td>0.7</td>\n",
       "      <td>38.40</td>\n",
       "      <td>3142.0</td>\n",
       "      <td>74.91</td>\n",
       "      <td>3.75</td>\n",
       "      <td>0</td>\n",
       "    </tr>\n",
       "    <tr>\n",
       "      <th>2</th>\n",
       "      <td>1.91</td>\n",
       "      <td>45.29</td>\n",
       "      <td>0.7</td>\n",
       "      <td>24.73</td>\n",
       "      <td>2023.0</td>\n",
       "      <td>62.48</td>\n",
       "      <td>3.12</td>\n",
       "      <td>0</td>\n",
       "    </tr>\n",
       "    <tr>\n",
       "      <th>3</th>\n",
       "      <td>2.37</td>\n",
       "      <td>51.33</td>\n",
       "      <td>0.7</td>\n",
       "      <td>30.63</td>\n",
       "      <td>2506.0</td>\n",
       "      <td>67.84</td>\n",
       "      <td>3.39</td>\n",
       "      <td>0</td>\n",
       "    </tr>\n",
       "    <tr>\n",
       "      <th>4</th>\n",
       "      <td>1.90</td>\n",
       "      <td>45.21</td>\n",
       "      <td>0.7</td>\n",
       "      <td>24.65</td>\n",
       "      <td>2017.0</td>\n",
       "      <td>62.41</td>\n",
       "      <td>3.12</td>\n",
       "      <td>0</td>\n",
       "    </tr>\n",
       "    <tr>\n",
       "      <th>...</th>\n",
       "      <td>...</td>\n",
       "      <td>...</td>\n",
       "      <td>...</td>\n",
       "      <td>...</td>\n",
       "      <td>...</td>\n",
       "      <td>...</td>\n",
       "      <td>...</td>\n",
       "      <td>...</td>\n",
       "    </tr>\n",
       "    <tr>\n",
       "      <th>427</th>\n",
       "      <td>1.32</td>\n",
       "      <td>37.49</td>\n",
       "      <td>0.7</td>\n",
       "      <td>17.10</td>\n",
       "      <td>1399.0</td>\n",
       "      <td>55.54</td>\n",
       "      <td>2.78</td>\n",
       "      <td>0</td>\n",
       "    </tr>\n",
       "    <tr>\n",
       "      <th>428</th>\n",
       "      <td>1.80</td>\n",
       "      <td>43.85</td>\n",
       "      <td>0.7</td>\n",
       "      <td>23.32</td>\n",
       "      <td>1908.0</td>\n",
       "      <td>61.20</td>\n",
       "      <td>3.06</td>\n",
       "      <td>0</td>\n",
       "    </tr>\n",
       "    <tr>\n",
       "      <th>429</th>\n",
       "      <td>2.79</td>\n",
       "      <td>56.99</td>\n",
       "      <td>0.7</td>\n",
       "      <td>36.17</td>\n",
       "      <td>2959.0</td>\n",
       "      <td>72.88</td>\n",
       "      <td>3.64</td>\n",
       "      <td>0</td>\n",
       "    </tr>\n",
       "    <tr>\n",
       "      <th>430</th>\n",
       "      <td>2.25</td>\n",
       "      <td>49.79</td>\n",
       "      <td>0.7</td>\n",
       "      <td>29.13</td>\n",
       "      <td>2383.0</td>\n",
       "      <td>66.48</td>\n",
       "      <td>3.32</td>\n",
       "      <td>0</td>\n",
       "    </tr>\n",
       "    <tr>\n",
       "      <th>431</th>\n",
       "      <td>1.52</td>\n",
       "      <td>40.15</td>\n",
       "      <td>0.7</td>\n",
       "      <td>19.70</td>\n",
       "      <td>1612.0</td>\n",
       "      <td>57.91</td>\n",
       "      <td>2.90</td>\n",
       "      <td>0</td>\n",
       "    </tr>\n",
       "  </tbody>\n",
       "</table>\n",
       "<p>432 rows × 8 columns</p>\n",
       "</div>"
      ],
      "text/plain": [
       "     air_inflow  air_end_temp  out_pressure  motor_current  motor_rpm   \n",
       "0          1.59         41.00           0.7          20.53     1680.0  \\\n",
       "1          2.97         59.28           0.7          38.40     3142.0   \n",
       "2          1.91         45.29           0.7          24.73     2023.0   \n",
       "3          2.37         51.33           0.7          30.63     2506.0   \n",
       "4          1.90         45.21           0.7          24.65     2017.0   \n",
       "..          ...           ...           ...            ...        ...   \n",
       "427        1.32         37.49           0.7          17.10     1399.0   \n",
       "428        1.80         43.85           0.7          23.32     1908.0   \n",
       "429        2.79         56.99           0.7          36.17     2959.0   \n",
       "430        2.25         49.79           0.7          29.13     2383.0   \n",
       "431        1.52         40.15           0.7          19.70     1612.0   \n",
       "\n",
       "     motor_temp  motor_vibe  type  \n",
       "0         58.67        2.93     0  \n",
       "1         74.91        3.75     0  \n",
       "2         62.48        3.12     0  \n",
       "3         67.84        3.39     0  \n",
       "4         62.41        3.12     0  \n",
       "..          ...         ...   ...  \n",
       "427       55.54        2.78     0  \n",
       "428       61.20        3.06     0  \n",
       "429       72.88        3.64     0  \n",
       "430       66.48        3.32     0  \n",
       "431       57.91        2.90     0  \n",
       "\n",
       "[432 rows x 8 columns]"
      ]
     },
     "execution_count": 27,
     "metadata": {},
     "output_type": "execute_result"
    }
   ],
   "source": [
    "train[train.type==0]"
   ]
  },
  {
   "cell_type": "code",
   "execution_count": 34,
   "metadata": {},
   "outputs": [
    {
     "data": {
      "text/plain": [
       "(452, 274)"
      ]
     },
     "execution_count": 34,
     "metadata": {},
     "output_type": "execute_result"
    }
   ],
   "source": [
    "import scipy.io\n",
    "\n",
    "arrhythmia = scipy.io.loadmat(\"./DATA/arrhythmia.mat\")\n",
    "arrhythmia['X'].shape"
   ]
  },
  {
   "cell_type": "code",
   "execution_count": 35,
   "metadata": {},
   "outputs": [
    {
     "data": {
      "text/plain": [
       "(452, 1)"
      ]
     },
     "execution_count": 35,
     "metadata": {},
     "output_type": "execute_result"
    }
   ],
   "source": [
    "arrhythmia['y'].shape"
   ]
  },
  {
   "cell_type": "code",
   "execution_count": null,
   "metadata": {},
   "outputs": [],
   "source": []
  }
 ],
 "metadata": {
  "kernelspec": {
   "display_name": "Python 3",
   "language": "python",
   "name": "python3"
  },
  "language_info": {
   "codemirror_mode": {
    "name": "ipython",
    "version": 3
   },
   "file_extension": ".py",
   "mimetype": "text/x-python",
   "name": "python",
   "nbconvert_exporter": "python",
   "pygments_lexer": "ipython3",
   "version": "3.10.10"
  },
  "orig_nbformat": 4
 },
 "nbformat": 4,
 "nbformat_minor": 2
}
